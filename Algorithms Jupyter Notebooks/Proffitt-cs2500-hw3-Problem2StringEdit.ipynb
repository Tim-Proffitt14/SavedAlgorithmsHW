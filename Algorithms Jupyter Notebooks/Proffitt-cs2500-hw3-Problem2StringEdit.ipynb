{
 "cells": [
  {
   "cell_type": "markdown",
   "id": "b8f90677",
   "metadata": {},
   "source": [
    "# String Edit\n",
    "\n",
    "## Timothy Proffitt\n",
    "\n",
    "## CS 2500: Algorithms\n",
    "## April 10, 2023"
   ]
  },
  {
   "cell_type": "markdown",
   "id": "0155f35c",
   "metadata": {},
   "source": [
    "This jupyter notebook goes over my dynamic and greedy algorithms for HW 3 Problem 2: String Edit. Both approaches allow you to change the cost of the changes you can make (deletion, insertion, substitution) when you call the function."
   ]
  },
  {
   "cell_type": "markdown",
   "id": "c30a4230",
   "metadata": {},
   "source": [
    "## Dynamic\n",
    "\n",
    "The dynamic algorithm uses nested for loops to iterate through both strings, and stores the values of the cheapest operation in a 2d array. "
   ]
  },
  {
   "cell_type": "code",
   "execution_count": 1,
   "id": "3cecb68c",
   "metadata": {},
   "outputs": [],
   "source": [
    "def StringEdit(str1, str2, cd, ci,cs):\n",
    "    # build 2d array\n",
    "    mem = [[0 for i in range(len(str2))] for j in range(len(str1))]\n",
    "  \n",
    "    for i in range(len(str1)):\n",
    "        for j in range(len(str2)):\n",
    "            if i == 0:    #empty 1st string\n",
    "                mem[i][j] = j    \n",
    " \n",
    "            elif j == 0:    #empty second string\n",
    "                mem[i][j] = i    \n",
    " \n",
    "            # same characters\n",
    "            elif str1[i] == str2[j]:\n",
    "                mem[i][j] = mem[i-1][j-1]\n",
    " \n",
    "            else:  #different characters\n",
    "                mem[i][j] =    min(mem[i-1][j] +cd,        # delete\n",
    "                                   mem[i][j-1] +ci,        # insert\n",
    "                                   mem[i-1][j-1] + cs)    # substitute\n",
    " \n",
    "    return mem[len(str1) -1][len(str2) -1]\n",
    " "
   ]
  },
  {
   "cell_type": "markdown",
   "id": "47e52913",
   "metadata": {},
   "source": [
    "## Greedy\n",
    "\n",
    "My greedy approach iterates through both strings at the same time. If the character is the same it does nothing, otherwise it makes a decision based off the length of the strings. If string1 one is short it inserts a character. If string1 is long it deletes a character. If string1 is the same length as string2 it substitutes the character in. I think this way, we try to make the strings the same based off of the current state of the string. "
   ]
  },
  {
   "cell_type": "code",
   "execution_count": 2,
   "id": "4bc382e8",
   "metadata": {},
   "outputs": [],
   "source": [
    "def Greedy(s1, s2, cd, ci, cs):\n",
    "  i, j = 0,0\n",
    "  cost = 0\n",
    "  while i < len(s1) or j < len(s2):\n",
    "    if s1[i] == s2[j]:\n",
    "      i += 1\n",
    "      j += 1\n",
    "    else:\n",
    "      if len(s1)-i > len(s2) -j:\n",
    "        cost += cd\n",
    "        i += 1\n",
    "      elif len(s1)-i < len(s2) -j:\n",
    "        cost += ci\n",
    "        j += 1\n",
    "      else:\n",
    "        cost += cs\n",
    "        i += 1\n",
    "        j += 1\n",
    "        \n",
    "  return cost"
   ]
  },
  {
   "cell_type": "markdown",
   "id": "550e6b67",
   "metadata": {},
   "source": [
    "The Greedy Algorithm is usually okay, but usually cost slightly more than the dynamic approach. The three 1's are the cost of the operations and can be changed\n",
    "\n",
    "Driver Code: "
   ]
  },
  {
   "cell_type": "code",
   "execution_count": 4,
   "id": "60da9905",
   "metadata": {},
   "outputs": [
    {
     "name": "stdout",
     "output_type": "stream",
     "text": [
      "The dynamic approach matches the string in: 7 steps\n",
      "The greedy approach matches the string in: 8 steps\n"
     ]
    }
   ],
   "source": [
    "str1 = \"adfasdfsfdsiu\"\n",
    "str2 = \"fasdfasiyh\"\n",
    " \n",
    "print(f'The dynamic approach matches the string in: {StringEdit(str1, str2, 1,1,1)} steps')\n",
    "print(f'The greedy approach matches the string in: {Greedy(str1, str2, 1,1,1)} steps')\n"
   ]
  },
  {
   "cell_type": "code",
   "execution_count": null,
   "id": "2a210619",
   "metadata": {},
   "outputs": [],
   "source": []
  }
 ],
 "metadata": {
  "kernelspec": {
   "display_name": "Python 3 (ipykernel)",
   "language": "python",
   "name": "python3"
  },
  "language_info": {
   "codemirror_mode": {
    "name": "ipython",
    "version": 3
   },
   "file_extension": ".py",
   "mimetype": "text/x-python",
   "name": "python",
   "nbconvert_exporter": "python",
   "pygments_lexer": "ipython3",
   "version": "3.9.13"
  }
 },
 "nbformat": 4,
 "nbformat_minor": 5
}
