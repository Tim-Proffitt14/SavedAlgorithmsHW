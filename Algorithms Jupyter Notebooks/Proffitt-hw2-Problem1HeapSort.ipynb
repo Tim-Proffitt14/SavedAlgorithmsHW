{
 "cells": [
  {
   "cell_type": "markdown",
   "id": "53bde180",
   "metadata": {},
   "source": [
    "# Heap Sort\n",
    "\n",
    "## Author: Timothy Proffitt\n",
    "\n",
    "## CS 2500 (Algorithms) @ Missouri S&T"
   ]
  },
  {
   "cell_type": "markdown",
   "id": "04256959",
   "metadata": {},
   "source": [
    "## Prerequisite Packages"
   ]
  },
  {
   "cell_type": "markdown",
   "id": "ce79233a",
   "metadata": {},
   "source": [
    "We will use the numpy and matplotlib library in this notebook"
   ]
  },
  {
   "cell_type": "code",
   "execution_count": 1,
   "id": "b9aed09e",
   "metadata": {},
   "outputs": [
    {
     "name": "stdout",
     "output_type": "stream",
     "text": [
      "Requirement already satisfied: numpy in c:\\users\\timot\\anoconda\\lib\\site-packages (1.21.5)\n",
      "Requirement already satisfied: matplotlib in c:\\users\\timot\\anoconda\\lib\\site-packages (3.5.2)\n",
      "Requirement already satisfied: pillow>=6.2.0 in c:\\users\\timot\\anoconda\\lib\\site-packages (from matplotlib) (9.2.0)\n",
      "Requirement already satisfied: python-dateutil>=2.7 in c:\\users\\timot\\anoconda\\lib\\site-packages (from matplotlib) (2.8.2)\n",
      "Requirement already satisfied: kiwisolver>=1.0.1 in c:\\users\\timot\\anoconda\\lib\\site-packages (from matplotlib) (1.4.2)\n",
      "Requirement already satisfied: cycler>=0.10 in c:\\users\\timot\\anoconda\\lib\\site-packages (from matplotlib) (0.11.0)\n",
      "Requirement already satisfied: fonttools>=4.22.0 in c:\\users\\timot\\anoconda\\lib\\site-packages (from matplotlib) (4.25.0)\n",
      "Requirement already satisfied: packaging>=20.0 in c:\\users\\timot\\anoconda\\lib\\site-packages (from matplotlib) (21.3)\n",
      "Requirement already satisfied: numpy>=1.17 in c:\\users\\timot\\anoconda\\lib\\site-packages (from matplotlib) (1.21.5)\n",
      "Requirement already satisfied: pyparsing>=2.2.1 in c:\\users\\timot\\anoconda\\lib\\site-packages (from matplotlib) (3.0.9)\n",
      "Requirement already satisfied: six>=1.5 in c:\\users\\timot\\anoconda\\lib\\site-packages (from python-dateutil>=2.7->matplotlib) (1.16.0)\n"
     ]
    }
   ],
   "source": [
    "# Install all the prerequisite packages from the Terminal\n",
    "!pip install numpy\n",
    "!pip install matplotlib"
   ]
  },
  {
   "cell_type": "code",
   "execution_count": 2,
   "id": "825dde4e",
   "metadata": {},
   "outputs": [],
   "source": [
    "import time\n",
    "import numpy as np\n",
    "import matplotlib.pyplot as plt\n",
    "import copy"
   ]
  },
  {
   "cell_type": "markdown",
   "id": "62b16460",
   "metadata": {},
   "source": [
    "# The Heap Class \n",
    "\n",
    "We have to set up a Heap class that turns our array into a heap so we can use heapsort efficiently. Functions for Heap Sort are also included within the class, so they can just be called on our object."
   ]
  },
  {
   "cell_type": "code",
   "execution_count": 10,
   "id": "64695580",
   "metadata": {},
   "outputs": [],
   "source": [
    "class Heap:\n",
    "  def __init__(self, A):\n",
    "    self.max_heap = A\n",
    "    self.heap_size = len(A)\n",
    "\n",
    "  def parent(self, i):\n",
    "    return self.max_heap[math.floor(i / 2)]\n",
    "\n",
    "  def left(self, i):\n",
    "    return 2 * i +1\n",
    "\n",
    "  def right(self, i):\n",
    "    return 2 * i + 2\n",
    "\n",
    "  def max_heapify(self, i):\n",
    "    l = self.left(i)\n",
    "    r = self.right(i)\n",
    "    largest = i\n",
    "    if l < self.heap_size and self.max_heap[l] > self.max_heap[i]:\n",
    "      largest = l\n",
    "    if r < self.heap_size and self.max_heap[r] > self.max_heap[largest]:\n",
    "      largest = r\n",
    "    if largest != i:\n",
    "      self.max_heap[i], self.max_heap[largest] = self.max_heap[largest], self.max_heap[i]\n",
    "      self.max_heapify(largest)\n",
    "    \n",
    "\n",
    "  def build_max_heap(self):\n",
    "    self.heap_size = len(self.max_heap)\n",
    "    for i in range(self.heap_size // 2 -1, -1, -1):\n",
    "      self.max_heapify(i)\n",
    "      \n",
    "    \n",
    "\n",
    "  def heapsort(self):\n",
    "    self.build_max_heap()\n",
    "    for i in range(len(self.max_heap) -1, 0,-1):\n",
    "      self.max_heap[i], self.max_heap[0] = self.max_heap[0], self.max_heap[i]\n",
    "      self.heap_size = self.heap_size - 1\n",
    "      self.max_heapify(0)\n",
    "      \n",
    "      \n",
    "  \n",
    "  \n",
    "  \n",
    "  def print_heap(self):\n",
    "    print(f'Sorted array: {self.max_heap}')"
   ]
  },
  {
   "cell_type": "markdown",
   "id": "d1dda7af",
   "metadata": {},
   "source": [
    "# Test \n",
    "\n",
    "We're testing for correctness using a test input and outputting each step along the way (included in the functions)."
   ]
  },
  {
   "cell_type": "code",
   "execution_count": 11,
   "id": "e883b30c",
   "metadata": {},
   "outputs": [
    {
     "name": "stdout",
     "output_type": "stream",
     "text": [
      "Sorted array: [1, 2, 3, 4, 7, 8, 9, 10, 14, 16]\n"
     ]
    }
   ],
   "source": [
    "list = [4,1,3,2,16,9,10,14,8,7]\n",
    "list = Heap(list)\n",
    "list.heapsort()\n",
    "list.print_heap()"
   ]
  },
  {
   "cell_type": "markdown",
   "id": "09f33c5d",
   "metadata": {},
   "source": [
    "# Plotting Run-Time Complexity"
   ]
  },
  {
   "cell_type": "code",
   "execution_count": 8,
   "id": "b478f387",
   "metadata": {},
   "outputs": [],
   "source": [
    "# Generate a random array of given size.\n",
    "def generate_random_input(size):\n",
    "    arr = np.random.randint(0, 20000, size = size)\n",
    "    return arr"
   ]
  },
  {
   "cell_type": "code",
   "execution_count": 12,
   "id": "545d6b94",
   "metadata": {},
   "outputs": [],
   "source": [
    " # Number of random arrays generated in this experiment\n",
    "monte_carlo_runs = 500\n",
    "\n",
    "# Range of array sizes considered\n",
    "start_array = 10\n",
    "end_array = 200\n",
    "increments = 10\n",
    "\n",
    "# Initiate average and worst case run-time\n",
    "avg_time_taken = [0]*(end_array//increments)\n",
    "worst_time_taken = [0]*(end_array//increments)\n",
    "\n",
    "# Run-time experiments for random arrays of a given size\n",
    "count = 0\n",
    "for curr_array_size in range(start_array, end_array+1, increments):  \n",
    "    run_times = []\n",
    "    # Given a fixed array size, generate one random array and compute its run-time\n",
    "    for iteration in range(monte_carlo_runs):             \n",
    "        array = generate_random_input(curr_array_size)    # Generate random array\n",
    "        start = time.time()                               # Record state time\n",
    "        array = Heap(array)\n",
    "        array.heapsort()\n",
    "        end = time.time()                                 # Record end time\n",
    "        run_times.append(end - start)                     # Instantaneous ruun-time for a specific random input         \n",
    "\n",
    "    avg_time_taken[count] = sum(run_times)/len(run_times) # Empirical average of run-time\n",
    "    worst_time_taken[count] = max(run_times)              # Worst case run time across various random experiments\n",
    "    count += 1\n",
    "#print(time_taken)"
   ]
  },
  {
   "cell_type": "code",
   "execution_count": 14,
   "id": "a0937287",
   "metadata": {},
   "outputs": [
    {
     "data": {
      "image/png": "[encoded data removed]",
      "text/plain": [
       "<Figure size 640x480 with 1 Axes>"
      ]
     },
     "metadata": {},
     "output_type": "display_data"
    }
   ],
   "source": [
    "# Data Coordinates\n",
    "x = np.arange(start_array, end_array+1, increments)\n",
    "y = np.array(avg_time_taken)\n",
    "z = np.array(worst_time_taken)\n",
    "\n",
    "# Plot\n",
    "plt.plot(x,y,'b',label='Avg Run Time') \n",
    "plt.plot(x,z,'r',label='Worst Run Time') \n",
    "\n",
    "# Add Title\n",
    "plt.title(\"Heap Sort\") \n",
    "\n",
    "# Add Axes Labels\n",
    "plt.xlabel(\"Size of Array\") \n",
    "plt.ylabel(\"Time Taken\") \n",
    "\n",
    "# Display\n",
    "plt.legend()\n",
    "plt.show()"
   ]
  },
  {
   "cell_type": "code",
   "execution_count": null,
   "id": "b8bd0e59",
   "metadata": {},
   "outputs": [],
   "source": []
  }
 ],
 "metadata": {
  "kernelspec": {
   "display_name": "Python 3 (ipykernel)",
   "language": "python",
   "name": "python3"
  },
  "language_info": {
   "codemirror_mode": {
    "name": "ipython",
    "version": 3
   },
   "file_extension": ".py",
   "mimetype": "text/x-python",
   "name": "python",
   "nbconvert_exporter": "python",
   "pygments_lexer": "ipython3",
   "version": "3.9.13"
  }
 },
 "nbformat": 4,
 "nbformat_minor": 5
}
