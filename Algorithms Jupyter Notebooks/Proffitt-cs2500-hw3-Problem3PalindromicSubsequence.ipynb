{
 "cells": [
  {
   "cell_type": "markdown",
   "id": "839c7b04",
   "metadata": {},
   "source": [
    "# Palindromic Subsequence\n",
    "\n",
    "## Timothy Proffitt\n",
    "## CS 2500: Algorithms\n",
    "## Homework 3"
   ]
  },
  {
   "cell_type": "markdown",
   "id": "6a65199f",
   "metadata": {},
   "source": [
    "I did this problem two different ways. The first approach uses a recursive function with a global 2d array to compare the elements using 2 iterators (one starting from 0 and one from the length of the string). The other approach uses nested for loops."
   ]
  },
  {
   "cell_type": "markdown",
   "id": "abc4cba0",
   "metadata": {},
   "source": [
    "## Recursive"
   ]
  },
  {
   "cell_type": "code",
   "execution_count": 1,
   "id": "8806206b",
   "metadata": {},
   "outputs": [],
   "source": [
    "def longestHelper(str):\n",
    "  mem = [[0 for i in range(len(str))] for j in range(len(str))]\n",
    "  return longestSub(str, 0, len(str) -1, mem)\n",
    "  \n",
    "def longestSub(str, i, j, mem):\n",
    "  if i > j or j < i:\n",
    "    return 0\n",
    "  elif i == j:\n",
    "    return 1\n",
    "  elif str[i] == str[j]:\n",
    "    mem[i][j] = 2 + longestSub(str, i +1, j- 1, mem)\n",
    "  else:\n",
    "    mem[i][j] = max(longestSub(str, i+1, j, mem), longestSub(str, i, j-1, mem))\n",
    "  return mem[i][j]"
   ]
  },
  {
   "cell_type": "markdown",
   "id": "728d3dcc",
   "metadata": {},
   "source": [
    "## Iterative"
   ]
  },
  {
   "cell_type": "code",
   "execution_count": 5,
   "id": "bd11e443",
   "metadata": {},
   "outputs": [],
   "source": [
    "def LongestSub(str):\n",
    "  mem = [[0 for i in range(len(str))] for j in range(len(str))]\n",
    "\n",
    "  for i in range(len(str) -1, -1, -1):\n",
    "    mem[i][i] = 1\n",
    "    for j in range(i+1,len(str)):\n",
    "      if str[i] == str[j]:\n",
    "        mem[i][j] = mem[i+1][j-1] +2\n",
    "      else:\n",
    "        mem[i][j] = max(mem[i +1][j], mem[i][j-1])\n",
    "\n",
    "  return mem[0][len(str) -1]\n"
   ]
  },
  {
   "cell_type": "markdown",
   "id": "1aea519b",
   "metadata": {},
   "source": [
    "## Driver Code\n",
    "\n",
    "These should return the same result everytime"
   ]
  },
  {
   "cell_type": "code",
   "execution_count": 7,
   "id": "57466951",
   "metadata": {},
   "outputs": [
    {
     "name": "stdout",
     "output_type": "stream",
     "text": [
      "The length of the longest substring given by the recursive is: 8\n",
      "The length of the longest substring given by the Iterative is: 8\n"
     ]
    }
   ],
   "source": [
    "string = \"acgtgtcaaaatcg\"\n",
    "print(f'The length of the longest substring given by the recursive is: {longestHelper(string)}')\n",
    "print(f'The length of the longest substring given by the Iterative is: {LongestSub(string)}')"
   ]
  },
  {
   "cell_type": "code",
   "execution_count": null,
   "id": "f0f3e584",
   "metadata": {},
   "outputs": [],
   "source": []
  }
 ],
 "metadata": {
  "kernelspec": {
   "display_name": "Python 3 (ipykernel)",
   "language": "python",
   "name": "python3"
  },
  "language_info": {
   "codemirror_mode": {
    "name": "ipython",
    "version": 3
   },
   "file_extension": ".py",
   "mimetype": "text/x-python",
   "name": "python",
   "nbconvert_exporter": "python",
   "pygments_lexer": "ipython3",
   "version": "3.9.13"
  }
 },
 "nbformat": 4,
 "nbformat_minor": 5
}
