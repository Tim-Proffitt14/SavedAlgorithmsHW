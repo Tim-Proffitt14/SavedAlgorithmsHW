{
 "cells": [
  {
   "cell_type": "markdown",
   "id": "71315d96",
   "metadata": {},
   "source": [
    "# Maximum Eliment\n",
    "\n",
    "## Author: Timothy Proffitt\n",
    "## CS 2500 (Algorithms) @ Missouri S&T"
   ]
  },
  {
   "cell_type": "markdown",
   "id": "93070c57",
   "metadata": {},
   "source": [
    "# Prerequisite Packages\n",
    "\n",
    "We will use the numpy and matplotlib library in this notebook"
   ]
  },
  {
   "cell_type": "code",
   "execution_count": 2,
   "id": "519e5986",
   "metadata": {},
   "outputs": [
    {
     "name": "stdout",
     "output_type": "stream",
     "text": [
      "Requirement already satisfied: numpy in c:\\users\\timot\\anoconda\\lib\\site-packages (1.21.5)\n",
      "Requirement already satisfied: matplotlib in c:\\users\\timot\\anoconda\\lib\\site-packages (3.5.2)\n",
      "Requirement already satisfied: python-dateutil>=2.7 in c:\\users\\timot\\anoconda\\lib\\site-packages (from matplotlib) (2.8.2)\n",
      "Requirement already satisfied: cycler>=0.10 in c:\\users\\timot\\anoconda\\lib\\site-packages (from matplotlib) (0.11.0)\n",
      "Requirement already satisfied: pyparsing>=2.2.1 in c:\\users\\timot\\anoconda\\lib\\site-packages (from matplotlib) (3.0.9)\n",
      "Requirement already satisfied: packaging>=20.0 in c:\\users\\timot\\anoconda\\lib\\site-packages (from matplotlib) (21.3)\n",
      "Requirement already satisfied: numpy>=1.17 in c:\\users\\timot\\anoconda\\lib\\site-packages (from matplotlib) (1.21.5)\n",
      "Requirement already satisfied: fonttools>=4.22.0 in c:\\users\\timot\\anoconda\\lib\\site-packages (from matplotlib) (4.25.0)\n",
      "Requirement already satisfied: kiwisolver>=1.0.1 in c:\\users\\timot\\anoconda\\lib\\site-packages (from matplotlib) (1.4.2)\n",
      "Requirement already satisfied: pillow>=6.2.0 in c:\\users\\timot\\anoconda\\lib\\site-packages (from matplotlib) (9.2.0)\n",
      "Requirement already satisfied: six>=1.5 in c:\\users\\timot\\anoconda\\lib\\site-packages (from python-dateutil>=2.7->matplotlib) (1.16.0)\n"
     ]
    }
   ],
   "source": [
    "# Install all the prerequisite packages from the Terminal\n",
    "!pip install numpy\n",
    "!pip install matplotlib"
   ]
  },
  {
   "cell_type": "code",
   "execution_count": 3,
   "id": "a371ff4a",
   "metadata": {},
   "outputs": [],
   "source": [
    "import time\n",
    "import numpy as np\n",
    "import matplotlib.pyplot as plt\n",
    "import copy"
   ]
  },
  {
   "cell_type": "markdown",
   "id": "a4f1b4aa",
   "metadata": {},
   "source": [
    "# Maximum Element Function"
   ]
  },
  {
   "cell_type": "code",
   "execution_count": 4,
   "id": "81627682",
   "metadata": {},
   "outputs": [],
   "source": [
    "def MaxElement(stuff):\n",
    "  max_num = stuff[0]\n",
    "  for j in range(1, len(stuff)):\n",
    "    if stuff[j] > max_num:\n",
    "      max_num = stuff[j]\n",
    "  return max_num"
   ]
  },
  {
   "cell_type": "markdown",
   "id": "e2d3a077",
   "metadata": {},
   "source": [
    "# Check for Correctness using test input"
   ]
  },
  {
   "cell_type": "code",
   "execution_count": 5,
   "id": "b90a2e9e",
   "metadata": {},
   "outputs": [
    {
     "name": "stdout",
     "output_type": "stream",
     "text": [
      "Input : [1, 3, 7, 4, 5, 2, 1]\n",
      "\n",
      "The maximum element in the array is : 7\n",
      "\n"
     ]
    }
   ],
   "source": [
    "nums = [1, 3, 7, 4, 5, 2, 1 ]\n",
    "\n",
    "print(f\"Input : {nums}\\n\")\n",
    "\n",
    "\n",
    "print(f\"The maximum element in the array is : {MaxElement(nums)}\\n\")"
   ]
  },
  {
   "cell_type": "markdown",
   "id": "d2df34da",
   "metadata": {},
   "source": [
    "\n",
    "# Plotting Run-Time complexity"
   ]
  },
  {
   "cell_type": "code",
   "execution_count": 6,
   "id": "3ffb955e",
   "metadata": {},
   "outputs": [],
   "source": [
    "# Generate a random array of given size.\n",
    "def generate_random_input(size):\n",
    "    arr = np.random.randint(0, 20000, size = size)\n",
    "    return arr"
   ]
  },
  {
   "cell_type": "code",
   "execution_count": 7,
   "id": "c23039a3",
   "metadata": {},
   "outputs": [],
   "source": [
    "# Number of random arrays generated in this experiment\n",
    "monte_carlo_runs = 500\n",
    "\n",
    "# Range of array sizes considered\n",
    "start_array = 10\n",
    "end_array = 200\n",
    "increments = 10\n",
    "\n",
    "# Initiate average and worst case run-time\n",
    "avg_time_taken = [0]*(end_array//increments)\n",
    "worst_time_taken = [0]*(end_array//increments)\n",
    "\n",
    "# Run-time experiments for random arrays of a given size\n",
    "count = 0\n",
    "for curr_array_size in range(start_array, end_array+1, increments):  \n",
    "    run_times = []\n",
    "    # Given a fixed array size, generate one random array and compute its run-time\n",
    "    for iteration in range(monte_carlo_runs):             \n",
    "        array = generate_random_input(curr_array_size)    # Generate random array\n",
    "        start = time.time()                               # Record state time\n",
    "        MaxElement(array)\n",
    "        end = time.time()                                 # Record end time\n",
    "        run_times.append(end - start)                     # Instantaneous ruun-time for a specific random input         \n",
    "\n",
    "    avg_time_taken[count] = sum(run_times)/len(run_times) # Empirical average of run-time\n",
    "    worst_time_taken[count] = max(run_times)              # Worst case run time across various random experiments\n",
    "    count += 1\n",
    "#print(time_taken)"
   ]
  },
  {
   "cell_type": "code",
   "execution_count": 8,
   "id": "818e76b5",
   "metadata": {},
   "outputs": [
    {
     "data": {
      "image/png": "[encoded data removed]",
      "text/plain": [
       "<Figure size 640x480 with 1 Axes>"
      ]
     },
     "metadata": {},
     "output_type": "display_data"
    }
   ],
   "source": [
    "# Data Coordinates\n",
    "x = np.arange(start_array, end_array+1, increments)\n",
    "y = np.array(avg_time_taken)\n",
    "z = np.array(worst_time_taken)\n",
    "\n",
    "# Plot\n",
    "plt.plot(x,y,'b',label='Avg Run Time') \n",
    "plt.plot(x,z,'r',label='Worst Run Time') \n",
    "\n",
    "# Add Title\n",
    "plt.title(\"Maximum Element\") \n",
    "\n",
    "# Add Axes Labels\n",
    "plt.xlabel(\"Size of Array\") \n",
    "plt.ylabel(\"Time Taken\") \n",
    "\n",
    "# Display\n",
    "plt.legend()\n",
    "plt.show()"
   ]
  },
  {
   "cell_type": "code",
   "execution_count": null,
   "id": "5f95e8a2",
   "metadata": {},
   "outputs": [],
   "source": []
  }
 ],
 "metadata": {
  "kernelspec": {
   "display_name": "Python 3 (ipykernel)",
   "language": "python",
   "name": "python3"
  },
  "language_info": {
   "codemirror_mode": {
    "name": "ipython",
    "version": 3
   },
   "file_extension": ".py",
   "mimetype": "text/x-python",
   "name": "python",
   "nbconvert_exporter": "python",
   "pygments_lexer": "ipython3",
   "version": "3.9.13"
  }
 },
 "nbformat": 4,
 "nbformat_minor": 5
}
