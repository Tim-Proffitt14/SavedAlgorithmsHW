{
 "cells": [
  {
   "cell_type": "markdown",
   "id": "90716d63",
   "metadata": {},
   "source": [
    "# Dijkstra's Algorithm\n",
    "\n",
    "## Timothy Proffitt\n",
    "## CS: 2500\n",
    "## Homework 5\n",
    "\n",
    "This Jupyter Notebook goes over my implementation of Dijkstra's algorithm using A graph representated with an adjacency list and our min heap data structure that we have used throughout the semester"
   ]
  },
  {
   "cell_type": "markdown",
   "id": "a84bb23b",
   "metadata": {},
   "source": [
    "## MinHeap\n",
    "\n",
    "This is my min heap, it just uses a normal array and has a few basic functions needed for Dijkstra's algorithm"
   ]
  },
  {
   "cell_type": "code",
   "execution_count": 1,
   "id": "b376fa81",
   "metadata": {},
   "outputs": [],
   "source": [
    "class minHeap:\n",
    "\n",
    "  def __init__(self, minHeap = [], heapsize = 0):\n",
    "    self.minHeap = minHeap\n",
    "    self.heapsize = heapsize\n",
    "   \n",
    "  def parent(self, i):\n",
    "    return (i-1)/2\n",
    "\n",
    "  def left(self, i):\n",
    "    return 2 * i +1\n",
    "\n",
    "  def right(self, i):\n",
    "    return 2 * i + 2\n",
    "\n",
    "  def min_heapify(self, i):\n",
    "    l = self.left(i)\n",
    "    r = self.right(i)\n",
    "    smallest = i\n",
    "    if l < self.heapsize and self.minHeap[l].key < self.minHeap[i].key:\n",
    "      smallest = l\n",
    "    if r < self.heapsize and self.minHeap[r].key < self.minHeap[smallest].key:\n",
    "      smallest = r\n",
    "    if smallest != i:\n",
    "      self.minHeap[i], self.minHeap[smallest] = self.minHeap[smallest], self.minHeap[i]\n",
    "      self.min_heapify(smallest)\n",
    "\n",
    "  def build_min_heap(self):\n",
    "    self.heapsize = len(self.minHeap)\n",
    "    for i in range(self.heapsize // 2 -1, -1, -1):\n",
    "      self.min_heapify(i)\n",
    "    \n",
    "\n",
    "  def extract_min(self):\n",
    "    if self.heapsize <= 0:\n",
    "      return None\n",
    "    elif self.heapsize == 1:\n",
    "      self.heapsize = self.heapsize - 1\n",
    "      smallest = self.minHeap[0]\n",
    "      self.minHeap.pop()\n",
    "    else:\n",
    "      smallest = self.minHeap[0]\n",
    "      self.minHeap[0] = self.minHeap[self.heapsize -1]\n",
    "      self.heapsize -= 1\n",
    "      self.min_heapify(0)\n",
    "      self.minHeap.pop()\n",
    "    return smallest\n",
    "      "
   ]
  },
  {
   "cell_type": "markdown",
   "id": "deae2e23",
   "metadata": {},
   "source": [
    "## Graph and Node Class\n",
    "\n",
    "This is our graph and Node class including Dijkstra's algorithm as a method in the graph class. The node class contains the name of the node, its current distance value (stored as key), and a dictionary to store the Nodes it's adjacent too and the weight of the edges."
   ]
  },
  {
   "cell_type": "code",
   "execution_count": 2,
   "id": "3728408f",
   "metadata": {},
   "outputs": [],
   "source": [
    "class Node:\n",
    "  def __init__(self, name, adjacent = {}, key = 100, parent = None):\n",
    "    self.name = name\n",
    "    self.adjacent = adjacent\n",
    "    self.key = key\n",
    "    self.parent = parent\n",
    "\n",
    "  def add_adjacent(self, name, value):\n",
    "    self.adjacent[name] = value\n",
    "\n",
    "  def print_adjacent(self):\n",
    "    for i in self.adjacent:\n",
    "      print(f'{self.name} points to: {i.name} with cost: {n1.adjacent[i]}')\n",
    "\n",
    "class Graph:\n",
    "  def __init__(self, vertices = []):\n",
    "    self.vertices = vertices\n",
    "\n",
    "  def init_sin_source(self, s):\n",
    "    for i in self.vertices:\n",
    "      i.key = 100\n",
    "      i.parent = None\n",
    "    s.key = 0\n",
    "    \n",
    "\n",
    "  def relax(self, u,v):\n",
    "    if v.key > u.key + u.adjacent[v]:\n",
    "      v.key = u.key + u.adjacent[v]\n",
    "      v.parent = u\n",
    "\n",
    "\n",
    "  def Dijkstra(self):\n",
    "    s = self.vertices[0]\n",
    "    self.init_sin_source(s)\n",
    "    S = []\n",
    "    Q = minHeap(self.vertices, len(self.vertices))\n",
    "    Q.build_min_heap()\n",
    "\n",
    "    while Q.heapsize:\n",
    "      u = Q.extract_min()\n",
    "      S.append(u)\n",
    "      for v in u.adjacent:\n",
    "        self.relax(u,v)\n",
    "      Q.build_min_heap()    #this works but adds extra run time\n",
    "      print(f'{u.name} was extracted with distance {u.key}')\n",
    "     \n",
    "      "
   ]
  },
  {
   "cell_type": "markdown",
   "id": "8820fccb",
   "metadata": {},
   "source": [
    "## Driver\n",
    "\n",
    "I tediously set up all the Nodes and they're adjacent edges then put them in a graph and run Dijkstra's algorithm on it. It prints out which Node was extracted and the distanct cost of it, so you should be able to follow what edges are added hopefully."
   ]
  },
  {
   "cell_type": "code",
   "execution_count": 3,
   "id": "fa4d5330",
   "metadata": {},
   "outputs": [
    {
     "name": "stdout",
     "output_type": "stream",
     "text": [
      "1 was extracted with distance 0\n",
      "4 was extracted with distance 2\n",
      "2 was extracted with distance 3\n",
      "3 was extracted with distance 4\n",
      "8 was extracted with distance 5\n",
      "7 was extracted with distance 5\n",
      "5 was extracted with distance 6\n",
      "6 was extracted with distance 6\n",
      "9 was extracted with distance 7\n",
      "10 was extracted with distance 9\n"
     ]
    }
   ],
   "source": [
    "n1 = Node(1)\n",
    "n2 = Node(2)\n",
    "n3 = Node(3)\n",
    "n4 = Node(4)\n",
    "n5 = Node(5)\n",
    "n6 = Node(6)\n",
    "n7 = Node(7)\n",
    "n8 = Node(8)\n",
    "n9 = Node(9)\n",
    "n10 = Node(10)\n",
    "\n",
    "n1.adjacent = {n2:3, n4:2}\n",
    "n2.adjacent = {n3:1,n8:2}\n",
    "n3.adjacent = {n6:2}\n",
    "n4.adjacent = {n3:2,n6:4,n7:3}\n",
    "n5.adjacent = {n2:3}\n",
    "n6.adjacent = {n5:2,n9:1}\n",
    "n7.adjacent = {n9:5}\n",
    "n8.adjacent = {n5:1,n10:4}\n",
    "n9.adjacent = {n10:2}\n",
    "n10.adjacent = {}\n",
    "\n",
    "vert = [n1,n2,n3,n4,n5,n6,n7,n8,n9,n10]\n",
    "g = Graph(vert)\n",
    "g.Dijkstra()\n"
   ]
  },
  {
   "cell_type": "code",
   "execution_count": null,
   "id": "2cda1dea",
   "metadata": {},
   "outputs": [],
   "source": []
  }
 ],
 "metadata": {
  "kernelspec": {
   "display_name": "Python 3 (ipykernel)",
   "language": "python",
   "name": "python3"
  },
  "language_info": {
   "codemirror_mode": {
    "name": "ipython",
    "version": 3
   },
   "file_extension": ".py",
   "mimetype": "text/x-python",
   "name": "python",
   "nbconvert_exporter": "python",
   "pygments_lexer": "ipython3",
   "version": "3.9.13"
  }
 },
 "nbformat": 4,
 "nbformat_minor": 5
}
