{
 "cells": [
  {
   "cell_type": "markdown",
   "id": "94f09d21",
   "metadata": {},
   "source": [
    "# Graph Traversal\n",
    "\n",
    "## Timothy Proffitt\n",
    "\n",
    "## CS:2500\n",
    "## Homework 4"
   ]
  },
  {
   "cell_type": "markdown",
   "id": "d1033bd7",
   "metadata": {},
   "source": [
    "This Jupyter Notebook goes over my implementation of the two graph traversal algorithims taught in class: Breadth First search, and Depth First search"
   ]
  },
  {
   "cell_type": "markdown",
   "id": "40b4114d",
   "metadata": {},
   "source": [
    "I used a dequeue from the python collections folder to easily create a stack"
   ]
  },
  {
   "cell_type": "code",
   "execution_count": 1,
   "id": "dcb89cf8",
   "metadata": {},
   "outputs": [],
   "source": [
    "from collections import deque"
   ]
  },
  {
   "cell_type": "markdown",
   "id": "21683bb7",
   "metadata": {},
   "source": [
    "## Node and Graph Class\n",
    "\n",
    "This is my Node and Graph class, including the methods for BDS and DFS. These algorithims use Adjacency lists for the graph representation so all of the necessary atritubutes are stored in the Node class."
   ]
  },
  {
   "cell_type": "code",
   "execution_count": 2,
   "id": "6c2f5beb",
   "metadata": {},
   "outputs": [],
   "source": [
    "class Node:\n",
    "  def __init__(self, name, adjacent = [], visited = -1, level =0, parent = None, adj_count = 0):\n",
    "    self.name = name\n",
    "    self.adjacent = adjacent\n",
    "    self.level = level\n",
    "    self.parent = parent\n",
    "    self.adj_count = adj_count\n",
    "\n",
    "class Graph:\n",
    "  def __init__(self, graph_dict = []):\n",
    "    self.graph_dict = graph_dict\n",
    "\n",
    "  def add_node(self, node):\n",
    "    node1 = Node(node)\n",
    "    self.graph_dict.append(node1)\n",
    "\n",
    "  def add_edge(self, node, edges):\n",
    "    new_node = Node(node, edges)\n",
    "    self.graph_dict.append(new_node)\n",
    "      \n",
    "      \n",
    "\n",
    "  def bfs(self, s):\n",
    "    queue = []\n",
    "    for u in self.graph_dict:\n",
    "      u.visited = -1\n",
    "      u.level = 10000\n",
    "      u.parent = None\n",
    "    s.level = 0\n",
    "    s.parent = None\n",
    "    s.visited = 0\n",
    "    queue.append(s)\n",
    "    print('frontier: ', end= ' ')\n",
    "    for j in queue:\n",
    "      print(j.name, end= ' ')\n",
    "    print()\n",
    "    while queue:\n",
    "      u = queue.pop(0)\n",
    "      for v in u.adjacent:\n",
    "        if v.visited == -1:\n",
    "          v.visited = 0\n",
    "          v.level = u.level + 1\n",
    "          v.parent = u\n",
    "          queue.append(v)\n",
    "      print('frontier: ', end= ' ')\n",
    "      for j in queue:\n",
    "        print(j.name, end= ' ')\n",
    "      print()\n",
    "      u.visited = 1\n",
    "\n",
    "  def dfs(self, s):\n",
    "    stack = deque()\n",
    "    for u in self.graph_dict:\n",
    "      u.visited = -1\n",
    "      u.parent = None\n",
    "      u.adj_count = 0\n",
    "    s.parent = None\n",
    "    s.adj_count = 0\n",
    "    s.visited = 0\n",
    "    stack.append(s)\n",
    "    print('stack: ', end= ' ')\n",
    "    for i in stack:\n",
    "      print(i.name, end= ' ')\n",
    "    print()\n",
    "    while stack:  \n",
    "      u = stack[0]\n",
    "      for v in u.adjacent:\n",
    "        if v.visited == -1:\n",
    "          v.visited = 0\n",
    "          v.parent = u\n",
    "          stack.appendleft(v)\n",
    "          break \n",
    "        else:\n",
    "          u.adj_count = u.adj_count + 1\n",
    "      if u.adj_count >= len(u.adjacent):\n",
    "        u.visited = 1\n",
    "        stack.popleft()\n",
    "      print('stack: ', end= ' ')\n",
    "      for i in stack:\n",
    "        print(i.name, end= ' ')\n",
    "      print()\n",
    "      "
   ]
  },
  {
   "cell_type": "markdown",
   "id": "2752ee03",
   "metadata": {},
   "source": [
    "## Graph Setup\n",
    "\n",
    "This is the driver code to setup our graph, and a copy of it, to run our two searches on. I basically directly created each Node with their given name, then connected them to the nodes they should be connected to. It's a little tedious but it worked for the sake of this homework. I used a 0 node just as a placeholder."
   ]
  },
  {
   "cell_type": "code",
   "execution_count": 3,
   "id": "8d26d1d6",
   "metadata": {},
   "outputs": [],
   "source": [
    "n0 = Node(0)\n",
    "n1 = Node(1)\n",
    "n2 = Node(2)\n",
    "n3 = Node(3)\n",
    "n4 = Node(4)\n",
    "n5 = Node(5)\n",
    "n6 = Node(6)\n",
    "n7 = Node(7)\n",
    "n8 = Node(8)\n",
    "n9 = Node(9)\n",
    "\n",
    "n1.adjacent = [n2,n3]\n",
    "n2.adjacent = [n1,n4,n5,n6]\n",
    "n3.adjacent = [n1,n4,n5,n6]\n",
    "n4.adjacent = [n2,n3,n7,n8]\n",
    "n5.adjacent = [n2,n3,n7,n8]\n",
    "n6.adjacent = [n2,n3,n7,n8]\n",
    "n7.adjacent = [n4,n5,n6,n9]\n",
    "n8.adjacent = [n4,n5,n6,n9]\n",
    "n9.adjacent = [n7,n8]\n",
    "\n",
    "p = Graph()\n",
    "p.graph_dict = [n0,n1,n2,n3,n4,n5,n6,n7,n8,n9]\n",
    "r = Graph()\n",
    "r.graph_dict = p.graph_dict"
   ]
  },
  {
   "cell_type": "markdown",
   "id": "7ef00ca3",
   "metadata": {},
   "source": [
    "## Breadth First Search\n",
    "\n",
    "Below is the output generated by breadth first search. It outputs the frontier at each iteration of the method to show how it is working. "
   ]
  },
  {
   "cell_type": "code",
   "execution_count": 4,
   "id": "57adb379",
   "metadata": {},
   "outputs": [
    {
     "name": "stdout",
     "output_type": "stream",
     "text": [
      "BFS:\n",
      "frontier:  1 \n",
      "frontier:  2 3 \n",
      "frontier:  3 4 5 6 \n",
      "frontier:  4 5 6 \n",
      "frontier:  5 6 7 8 \n",
      "frontier:  6 7 8 \n",
      "frontier:  7 8 \n",
      "frontier:  8 9 \n",
      "frontier:  9 \n",
      "frontier:  \n"
     ]
    }
   ],
   "source": [
    "print(\"BFS:\")\n",
    "p.bfs(p.graph_dict[1])"
   ]
  },
  {
   "cell_type": "markdown",
   "id": "a9669179",
   "metadata": {},
   "source": [
    "## Depth First Search\n",
    "\n",
    "Next is the output for depth first search. It outputs the stack at each step to show how it is working."
   ]
  },
  {
   "cell_type": "code",
   "execution_count": 5,
   "id": "08e6f247",
   "metadata": {},
   "outputs": [
    {
     "name": "stdout",
     "output_type": "stream",
     "text": [
      "DFS:\n",
      "stack:  1 \n",
      "stack:  2 1 \n",
      "stack:  4 2 1 \n",
      "stack:  3 4 2 1 \n",
      "stack:  5 3 4 2 1 \n",
      "stack:  7 5 3 4 2 1 \n",
      "stack:  6 7 5 3 4 2 1 \n",
      "stack:  8 6 7 5 3 4 2 1 \n",
      "stack:  9 8 6 7 5 3 4 2 1 \n",
      "stack:  8 6 7 5 3 4 2 1 \n",
      "stack:  6 7 5 3 4 2 1 \n",
      "stack:  7 5 3 4 2 1 \n",
      "stack:  5 3 4 2 1 \n",
      "stack:  3 4 2 1 \n",
      "stack:  4 2 1 \n",
      "stack:  2 1 \n",
      "stack:  1 \n",
      "stack:  \n"
     ]
    }
   ],
   "source": [
    "print(\"DFS:\")\n",
    "r.dfs(r.graph_dict[1])"
   ]
  },
  {
   "cell_type": "code",
   "execution_count": null,
   "id": "83b4f7f5",
   "metadata": {},
   "outputs": [],
   "source": []
  }
 ],
 "metadata": {
  "kernelspec": {
   "display_name": "Python 3 (ipykernel)",
   "language": "python",
   "name": "python3"
  },
  "language_info": {
   "codemirror_mode": {
    "name": "ipython",
    "version": 3
   },
   "file_extension": ".py",
   "mimetype": "text/x-python",
   "name": "python",
   "nbconvert_exporter": "python",
   "pygments_lexer": "ipython3",
   "version": "3.9.13"
  }
 },
 "nbformat": 4,
 "nbformat_minor": 5
}
