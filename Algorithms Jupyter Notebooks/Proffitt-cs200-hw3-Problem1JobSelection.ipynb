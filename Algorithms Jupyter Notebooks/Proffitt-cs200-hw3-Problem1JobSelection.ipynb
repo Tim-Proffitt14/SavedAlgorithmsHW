{
 "cells": [
  {
   "cell_type": "markdown",
   "id": "dbbc6e3e",
   "metadata": {},
   "source": [
    "# Task Selection\n",
    "\n",
    "## Timothy Proffitt\n",
    "## CS 2500: Algorithms\n",
    "## April 10, 2023"
   ]
  },
  {
   "cell_type": "markdown",
   "id": "cf530089",
   "metadata": {},
   "source": [
    "This jupyter notebook goes over my Dynamic and Greedy Algorithms for HW 3 Problem 1: Task Selection. We use the random library to generate random arrays"
   ]
  },
  {
   "cell_type": "code",
   "execution_count": 32,
   "id": "94f1abc6",
   "metadata": {},
   "outputs": [],
   "source": [
    "import random"
   ]
  },
  {
   "cell_type": "markdown",
   "id": "c8dc80aa",
   "metadata": {},
   "source": [
    "# Dynamic Approach"
   ]
  },
  {
   "cell_type": "code",
   "execution_count": 33,
   "id": "6db832f1",
   "metadata": {},
   "outputs": [],
   "source": [
    "def TaskSel(jobs):\n",
    "  mem = [0] * len(jobs)\n",
    "  mem[0] = jobs[0][2]\n",
    "\n",
    "  for i in range(1, len(jobs)):\n",
    "    includedValue = jobs[i][2]\n",
    "    last = latest(jobs, i)\n",
    "\n",
    "    if last != -1:\n",
    "      includedValue += mem[last]\n",
    "\n",
    "    mem[i] = max(includedValue, mem[i -1])\n",
    "    \n",
    "  return mem[len(jobs) - 1]\n",
    "\n",
    "\n",
    "def latest(jobs, i):\n",
    "  for j in range(i -1, -1, -1):\n",
    "    if jobs[j][1] <= jobs[i][0]:\n",
    "      return j\n",
    "  return -1"
   ]
  },
  {
   "cell_type": "markdown",
   "id": "7a2d6d47",
   "metadata": {},
   "source": [
    "## This cell builds a list of 10 jobs\n",
    "\n",
    "I use a value between 0-100 for the start, a value between the start-100 for the end, and a value 0-100 for the value"
   ]
  },
  {
   "cell_type": "code",
   "execution_count": 34,
   "id": "a0581f4b",
   "metadata": {},
   "outputs": [],
   "source": [
    "jobs = []\n",
    "#this is just a nested for loop to randomly generate a list of jobs\n",
    "for i in range(10):       #i did it this way so the end of job won't be earlier than begin lol\n",
    "  jobs.append([0,0,0])\n",
    "  start = random.randint(0,100)\n",
    "  end = random.randint(start, 100)\n",
    "  value = random.randint(0,100)\n",
    "  jobs[i] = [start, end, value]"
   ]
  },
  {
   "cell_type": "markdown",
   "id": "c5d637e6",
   "metadata": {},
   "source": [
    "## Driver Code for Dynamic"
   ]
  },
  {
   "cell_type": "code",
   "execution_count": 35,
   "id": "c24d732d",
   "metadata": {},
   "outputs": [
    {
     "name": "stdout",
     "output_type": "stream",
     "text": [
      "JobList: [[6, 49, 46], [12, 57, 3], [56, 58, 48], [68, 71, 20], [38, 77, 91], [79, 82, 28], [62, 96, 81], [93, 98, 60], [95, 100, 49], [88, 100, 32]]\n",
      "The maximum value given by the dynamic approach is: 202\n"
     ]
    }
   ],
   "source": [
    "jobs1 = sorted(jobs,key=lambda l:l[1])\n",
    "print(f\"JobList: {jobs1}\")\n",
    "dynamic = TaskSel(jobs1)\n",
    "print(f'The maximum value given by the dynamic approach is: {dynamic}')"
   ]
  },
  {
   "cell_type": "markdown",
   "id": "d8f693f3",
   "metadata": {},
   "source": [
    "# Greedy Approach\n",
    "\n",
    "For my greedy approach I sorted the jobs in decreasing order of value. Took the most valuable job, and then continued to take the most valuable jobs that were compatible. This is greedy since it is only considering the value of the current job, and whether it is compatible. "
   ]
  },
  {
   "cell_type": "code",
   "execution_count": 36,
   "id": "475f5e44",
   "metadata": {},
   "outputs": [],
   "source": [
    "def greedyTask(jobs):\n",
    "  value = 0\n",
    "  jobstaken = []\n",
    "  jobstaken.append(jobs[0])\n",
    "  value += jobs[0][2]\n",
    "  for i in range(1,len(jobs)):\n",
    "    if isCompatible(jobs[i],jobstaken) == True:\n",
    "      value += jobs[i][2]\n",
    "      jobstaken.append(jobs[i])\n",
    "  return value\n",
    "\n",
    "def isCompatible(job, jobstaken):\n",
    "  flag = False\n",
    "  for i in range(0,len(jobstaken)):\n",
    "    if (job[0] > jobstaken[i][0] and job[0] > jobstaken[i][1]) or (job[1] <= jobstaken[i][0] and job[1] < jobstaken[i][1]):\n",
    "      flag = True\n",
    "    else:\n",
    "      return False\n",
    "      \n",
    "  return flag"
   ]
  },
  {
   "cell_type": "markdown",
   "id": "f7b47ac7",
   "metadata": {},
   "source": [
    "## Driver Code for Greedy"
   ]
  },
  {
   "cell_type": "code",
   "execution_count": 37,
   "id": "55787ccc",
   "metadata": {},
   "outputs": [
    {
     "name": "stdout",
     "output_type": "stream",
     "text": [
      "[[38, 77, 91], [62, 96, 81], [93, 98, 60], [95, 100, 49], [56, 58, 48], [6, 49, 46], [88, 100, 32], [79, 82, 28], [68, 71, 20], [12, 57, 3]]\n",
      "The greedy algorithm gives: 179\n"
     ]
    }
   ],
   "source": [
    "jobs2 = sorted(jobs,key=lambda l:l[2],reverse=True)\n",
    "print(jobs2)\n",
    "greedy = greedyTask(jobs2)\n",
    "print(f'The greedy algorithm gives: {greedy}')"
   ]
  },
  {
   "cell_type": "markdown",
   "id": "54e9b979",
   "metadata": {},
   "source": [
    "# Comparison\n",
    "\n",
    "The greedy algorithm usually gets close to the number returned by the dynamic algorithm, however a lot of time it ends up short."
   ]
  },
  {
   "cell_type": "code",
   "execution_count": 38,
   "id": "5d695cfa",
   "metadata": {},
   "outputs": [
    {
     "name": "stdout",
     "output_type": "stream",
     "text": [
      "Value given by dynamic: 202\n",
      "Value given by greedy: 179\n"
     ]
    }
   ],
   "source": [
    "print(f'Value given by dynamic: {dynamic}')\n",
    "print(f'Value given by greedy: {greedy}')"
   ]
  }
 ],
 "metadata": {
  "kernelspec": {
   "display_name": "Python 3 (ipykernel)",
   "language": "python",
   "name": "python3"
  },
  "language_info": {
   "codemirror_mode": {
    "name": "ipython",
    "version": 3
   },
   "file_extension": ".py",
   "mimetype": "text/x-python",
   "name": "python",
   "nbconvert_exporter": "python",
   "pygments_lexer": "ipython3",
   "version": "3.9.13"
  }
 },
 "nbformat": 4,
 "nbformat_minor": 5
}
